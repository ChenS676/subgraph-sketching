{
 "cells": [
  {
   "cell_type": "code",
   "execution_count": 33,
   "id": "d32e121eff894564",
   "metadata": {
    "ExecuteTime": {
     "end_time": "2023-10-30T10:40:41.608244Z",
     "start_time": "2023-10-30T10:40:36.562113Z"
    },
    "collapsed": false
   },
   "outputs": [],
   "source": [
    "\"\"\"\n",
    "Read and split ogb and planetoid datasets\n",
    "\"\"\"\n",
    "\n",
    "import os, sys\n",
    "import time\n",
    "sys.path.insert(0, '..')\n",
    "import torch\n",
    "from torch.utils.data import DataLoader\n",
    "from ogb.linkproppred import PygLinkPropPredDataset\n",
    "from ogb.nodeproppred import PygNodePropPredDataset\n",
    "from torch_geometric.data import Data\n",
    "from torch_geometric.datasets import Planetoid\n",
    "from torch_geometric.transforms import RandomLinkSplit\n",
    "from torch_geometric.utils import (add_self_loops, negative_sampling,\n",
    "                                   to_undirected)\n",
    "\n",
    "from torch_geometric.loader import DataLoader as pygDataLoader\n",
    "import wandb\n",
    "from src.utils import ROOT_DIR, get_same_source_negs\n",
    "from src.data import get_ogb_data"
   ]
  },
  {
   "cell_type": "markdown",
   "id": "48fac69343de4869",
   "metadata": {
    "collapsed": false
   },
   "source": [
    "# Cora"
   ]
  },
  {
   "cell_type": "code",
   "execution_count": 34,
   "id": "891a813a02a589c2",
   "metadata": {
    "ExecuteTime": {
     "end_time": "2023-10-30T10:40:41.633232Z",
     "start_time": "2023-10-30T10:40:40.956963Z"
    },
    "collapsed": false
   },
   "outputs": [],
   "source": [
    "dataset_name = 'cora'\n",
    "path = os.path.join(ROOT_DIR, 'dataset', dataset_name)\n",
    "dataset = Planetoid(path, dataset_name)"
   ]
  },
  {
   "cell_type": "code",
   "execution_count": 35,
   "id": "beb16ae6b109504a",
   "metadata": {
    "ExecuteTime": {
     "end_time": "2023-10-30T10:40:41.636412Z",
     "start_time": "2023-10-30T10:40:40.964161Z"
    },
    "collapsed": false
   },
   "outputs": [
    {
     "name": "stderr",
     "output_type": "stream",
     "text": [
      "/home/kit/aifb/cc7738/anaconda3/envs/ss/lib/python3.9/site-packages/torch_geometric/data/in_memory_dataset.py:157: UserWarning: It is not recommended to directly access the internal storage format `data` of an 'InMemoryDataset'. If you are absolutely certain what you are doing, access the internal storage via `InMemoryDataset._data` instead to suppress this warning. Alternatively, you can access stacked individual attributes of every graph via `dataset.{attr_name}`.\n",
      "  warnings.warn(msg)\n"
     ]
    },
    {
     "data": {
      "text/plain": [
       "Data(x=[2708, 1433], edge_index=[2, 10556], y=[2708], train_mask=[2708], val_mask=[2708], test_mask=[2708])"
      ]
     },
     "execution_count": 35,
     "metadata": {},
     "output_type": "execute_result"
    }
   ],
   "source": [
    "dataset.data"
   ]
  },
  {
   "cell_type": "code",
   "execution_count": 36,
   "id": "9e046a3b83a20d6d",
   "metadata": {
    "ExecuteTime": {
     "end_time": "2023-10-30T10:40:41.637077Z",
     "start_time": "2023-10-30T10:40:40.970546Z"
    },
    "collapsed": false
   },
   "outputs": [
    {
     "data": {
      "text/plain": [
       "torch.Size([2708, 1433])"
      ]
     },
     "execution_count": 36,
     "metadata": {},
     "output_type": "execute_result"
    }
   ],
   "source": [
    "dataset.data.x.shape"
   ]
  },
  {
   "cell_type": "code",
   "execution_count": 37,
   "id": "f8a3d55bd9c4dcc",
   "metadata": {
    "ExecuteTime": {
     "end_time": "2023-10-30T10:40:41.786300Z",
     "start_time": "2023-10-30T10:40:40.972551Z"
    },
    "collapsed": false
   },
   "outputs": [
    {
     "data": {
      "image/png": "[encoded data removed]",
      "text/plain": [
       "<Figure size 640x480 with 1 Axes>"
      ]
     },
     "metadata": {},
     "output_type": "display_data"
    }
   ],
   "source": [
    "import matplotlib.pyplot as plt \n",
    "plt.imshow(dataset.data.x[:100, :100], cmap='grey')\n",
    "plt.show()"
   ]
  },
  {
   "cell_type": "code",
   "execution_count": 38,
   "id": "c7c4a587f42d38fb",
   "metadata": {
    "ExecuteTime": {
     "end_time": "2023-10-30T10:40:41.787828Z",
     "start_time": "2023-10-30T10:40:41.401939Z"
    },
    "collapsed": false
   },
   "outputs": [
    {
     "data": {
      "text/plain": [
       "tensor([[   0,    0,    0,  ..., 2707, 2707, 2707],\n",
       "        [ 633, 1862, 2582,  ...,  598, 1473, 2706]])"
      ]
     },
     "execution_count": 38,
     "metadata": {},
     "output_type": "execute_result"
    }
   ],
   "source": [
    "dataset.data.edge_index"
   ]
  },
  {
   "cell_type": "code",
   "execution_count": 39,
   "id": "6bfcf48541fd3d8c",
   "metadata": {
    "ExecuteTime": {
     "end_time": "2023-10-30T10:40:41.789111Z",
     "start_time": "2023-10-30T10:40:41.411563Z"
    },
    "collapsed": false
   },
   "outputs": [
    {
     "data": {
      "text/plain": [
       "tensor([3, 4, 4,  ..., 3, 3, 3])"
      ]
     },
     "execution_count": 39,
     "metadata": {},
     "output_type": "execute_result"
    }
   ],
   "source": [
    "dataset.data.y"
   ]
  },
  {
   "cell_type": "markdown",
   "id": "f459aad2bb2147f5",
   "metadata": {
    "collapsed": false
   },
   "source": []
  },
  {
   "cell_type": "code",
   "execution_count": 40,
   "id": "2f25cba650892f41",
   "metadata": {
    "ExecuteTime": {
     "end_time": "2023-10-30T10:40:41.807742Z",
     "start_time": "2023-10-30T10:40:41.421981Z"
    },
    "collapsed": false
   },
   "outputs": [],
   "source": [
    "transform = RandomLinkSplit(is_undirected=True, num_val=0.1, num_test=0.2,\n",
    "                            add_negative_train_samples=True)\n",
    "train_data, val_data, test_data = transform(dataset.data)"
   ]
  },
  {
   "cell_type": "code",
   "execution_count": 41,
   "id": "31005ad830b93123",
   "metadata": {
    "ExecuteTime": {
     "end_time": "2023-10-30T10:40:41.809190Z",
     "start_time": "2023-10-30T10:40:41.449162Z"
    },
    "collapsed": false
   },
   "outputs": [
    {
     "data": {
      "text/plain": [
       "Data(x=[2708, 1433], edge_index=[2, 7392], y=[2708], train_mask=[2708], val_mask=[2708], test_mask=[2708], edge_label=[7392], edge_label_index=[2, 7392])"
      ]
     },
     "execution_count": 41,
     "metadata": {},
     "output_type": "execute_result"
    }
   ],
   "source": [
    "train_data"
   ]
  },
  {
   "cell_type": "code",
   "execution_count": 42,
   "id": "28d938a6dad7e91",
   "metadata": {
    "ExecuteTime": {
     "end_time": "2023-10-30T10:40:41.812562Z",
     "start_time": "2023-10-30T10:40:41.473122Z"
    },
    "collapsed": false
   },
   "outputs": [
    {
     "data": {
      "text/plain": [
       "tensor([[ 553,  506,  306,  ..., 1765,  803, 2407],\n",
       "        [ 745, 1914, 2086,  ..., 1216, 1855, 1260]])"
      ]
     },
     "execution_count": 42,
     "metadata": {},
     "output_type": "execute_result"
    }
   ],
   "source": [
    "train_data.edge_label_index"
   ]
  },
  {
   "cell_type": "code",
   "execution_count": 43,
   "id": "c61bb4cd66854f1",
   "metadata": {
    "ExecuteTime": {
     "end_time": "2023-10-30T10:40:43.340845Z",
     "start_time": "2023-10-30T10:40:41.698954Z"
    },
    "collapsed": false
   },
   "outputs": [
    {
     "data": {
      "text/plain": [
       "tensor([1., 1., 1.,  ..., 0., 0., 0.])"
      ]
     },
     "execution_count": 43,
     "metadata": {},
     "output_type": "execute_result"
    }
   ],
   "source": [
    "train_data.edge_label"
   ]
  },
  {
   "cell_type": "markdown",
   "id": "19b46db734da2f62",
   "metadata": {
    "collapsed": false
   },
   "source": [
    "# Pubmed"
   ]
  },
  {
   "cell_type": "code",
   "execution_count": 44,
   "id": "df84a89c0c55f70",
   "metadata": {
    "ExecuteTime": {
     "end_time": "2023-10-30T10:40:43.726971Z",
     "start_time": "2023-10-30T10:40:43.233391Z"
    },
    "collapsed": false
   },
   "outputs": [],
   "source": [
    "dataset_name = 'pubmed'\n",
    "path = os.path.join(ROOT_DIR, 'dataset', dataset_name)\n",
    "dataset = Planetoid(path, dataset_name)"
   ]
  },
  {
   "cell_type": "code",
   "execution_count": 45,
   "id": "d8e7e4197dedc545",
   "metadata": {
    "ExecuteTime": {
     "end_time": "2023-10-30T10:40:43.940235Z",
     "start_time": "2023-10-30T10:40:43.776975Z"
    },
    "collapsed": false
   },
   "outputs": [],
   "source": [
    "transform = RandomLinkSplit(is_undirected=True, num_val=0.1, num_test=0.2,\n",
    "                            add_negative_train_samples=True)\n",
    "train_data, val_data, test_data = transform(dataset.data)"
   ]
  },
  {
   "cell_type": "code",
   "execution_count": 46,
   "id": "fbbf5c3124853765",
   "metadata": {
    "ExecuteTime": {
     "end_time": "2023-10-30T10:40:44.414576Z",
     "start_time": "2023-10-30T10:40:44.326855Z"
    },
    "collapsed": false
   },
   "outputs": [
    {
     "data": {
      "text/plain": [
       "Data(x=[19717, 500], edge_index=[2, 62056], y=[19717], train_mask=[19717], val_mask=[19717], test_mask=[19717], edge_label=[62056], edge_label_index=[2, 62056])"
      ]
     },
     "execution_count": 46,
     "metadata": {},
     "output_type": "execute_result"
    }
   ],
   "source": [
    "train_data"
   ]
  },
  {
   "cell_type": "code",
   "execution_count": 47,
   "id": "d6c63798d2c921ba",
   "metadata": {
    "ExecuteTime": {
     "end_time": "2023-10-30T10:40:45.396981Z",
     "start_time": "2023-10-30T10:40:45.021301Z"
    },
    "collapsed": false
   },
   "outputs": [],
   "source": [
    "dataset_name = 'Citeseer'\n",
    "path = os.path.join(ROOT_DIR, 'dataset', dataset_name)\n",
    "dataset = Planetoid(path, dataset_name)\n",
    "transform = RandomLinkSplit(is_undirected=True, num_val=0.1, num_test=0.2,\n",
    "                            add_negative_train_samples=True)\n",
    "train_data, val_data, test_data = transform(dataset.data)"
   ]
  },
  {
   "cell_type": "code",
   "execution_count": 48,
   "id": "d5f585694f9b51d5",
   "metadata": {
    "ExecuteTime": {
     "end_time": "2023-10-30T10:40:46.089663Z",
     "start_time": "2023-10-30T10:40:45.710844Z"
    },
    "collapsed": false
   },
   "outputs": [],
   "source": [
    "use_lcc_flag = False\n",
    "dataset = PygLinkPropPredDataset(name='ogbl-collab', root=path)"
   ]
  },
  {
   "cell_type": "code",
   "execution_count": 49,
   "id": "a2f9420db63893e3",
   "metadata": {
    "ExecuteTime": {
     "end_time": "2023-10-30T10:40:46.525376Z",
     "start_time": "2023-10-30T10:40:46.277105Z"
    },
    "collapsed": false
   },
   "outputs": [
    {
     "name": "stderr",
     "output_type": "stream",
     "text": [
      "/home/kit/aifb/cc7738/anaconda3/envs/ss/lib/python3.9/site-packages/torch_geometric/data/in_memory_dataset.py:157: UserWarning: It is not recommended to directly access the internal storage format `data` of an 'InMemoryDataset'. If you are absolutely certain what you are doing, access the internal storage via `InMemoryDataset._data` instead to suppress this warning. Alternatively, you can access stacked individual attributes of every graph via `dataset.{attr_name}`.\n",
      "  warnings.warn(msg)\n"
     ]
    },
    {
     "data": {
      "text/plain": [
       "tensor([[2],\n",
       "        [2],\n",
       "        [1],\n",
       "        ...,\n",
       "        [1],\n",
       "        [1],\n",
       "        [1]])"
      ]
     },
     "execution_count": 49,
     "metadata": {},
     "output_type": "execute_result"
    }
   ],
   "source": [
    "dataset.data.edge_weight"
   ]
  },
  {
   "cell_type": "code",
   "execution_count": 50,
   "id": "501031398fa7aa81",
   "metadata": {
    "ExecuteTime": {
     "end_time": "2023-10-30T10:40:46.998677Z",
     "start_time": "2023-10-30T10:40:46.808929Z"
    },
    "collapsed": false
   },
   "outputs": [
    {
     "data": {
      "text/plain": [
       "{'train': {'edge': tensor([[150989, 224881],\n",
       "          [150989, 224881],\n",
       "          [180078, 199043],\n",
       "          ...,\n",
       "          [ 60425, 221741],\n",
       "          [135758, 221741],\n",
       "          [140614, 207232]]),\n",
       "  'weight': tensor([2, 1, 1,  ..., 1, 1, 1]),\n",
       "  'year': tensor([2004, 2002, 2015,  ..., 2006, 2006, 1984])},\n",
       " 'valid': {'edge': tensor([[ 49077, 199043],\n",
       "          [148278, 147915],\n",
       "          [100860, 136989],\n",
       "          ...,\n",
       "          [145209,  15870],\n",
       "          [ 32751,  15870],\n",
       "          [ 32552,  15870]]),\n",
       "  'weight': tensor([1, 1, 2,  ..., 1, 1, 1]),\n",
       "  'year': tensor([2018, 2018, 2018,  ..., 2018, 2018, 2018]),\n",
       "  'edge_neg': tensor([[ 38605,  43566],\n",
       "          [213250, 225425],\n",
       "          [132174, 208876],\n",
       "          ...,\n",
       "          [ 54891, 229399],\n",
       "          [ 19173, 212241],\n",
       "          [162412, 204275]])},\n",
       " 'test': {'edge': tensor([[112509, 220958],\n",
       "          [  2599, 186854],\n",
       "          [100860, 136989],\n",
       "          ...,\n",
       "          [ 47058, 190305],\n",
       "          [216257, 190305],\n",
       "          [ 32459, 190305]]),\n",
       "  'weight': tensor([1, 1, 1,  ..., 3, 3, 3]),\n",
       "  'year': tensor([2019, 2019, 2019,  ..., 2019, 2019, 2019]),\n",
       "  'edge_neg': tensor([[ 38605,  43566],\n",
       "          [213250, 225425],\n",
       "          [132174, 208876],\n",
       "          ...,\n",
       "          [ 68624, 221692],\n",
       "          [ 73681, 172264],\n",
       "          [ 11343, 140761]])}}"
      ]
     },
     "execution_count": 50,
     "metadata": {},
     "output_type": "execute_result"
    }
   ],
   "source": [
    "split_edge = dataset.get_edge_split()\n",
    "split_edge"
   ]
  },
  {
   "cell_type": "code",
   "execution_count": 51,
   "id": "cea5e8502df09c0f",
   "metadata": {
    "ExecuteTime": {
     "end_time": "2023-10-30T10:40:47.440010Z",
     "start_time": "2023-10-30T10:40:47.258402Z"
    },
    "collapsed": false
   },
   "outputs": [],
   "source": [
    "use_lcc_flag = False\n",
    "dataset = PygNodePropPredDataset(name='ogbn-arxiv', root=path)"
   ]
  },
  {
   "cell_type": "code",
   "execution_count": 52,
   "id": "3dfbe5fba0f79e1",
   "metadata": {
    "ExecuteTime": {
     "end_time": "2023-10-30T10:40:58.057671Z",
     "start_time": "2023-10-30T10:40:57.766391Z"
    },
    "collapsed": false
   },
   "outputs": [],
   "source": [
    "split_edge = dataset.get_idx_split()"
   ]
  },
  {
   "cell_type": "code",
   "execution_count": 53,
   "id": "c5707716bcf4c5b2",
   "metadata": {
    "ExecuteTime": {
     "end_time": "2023-10-30T10:41:08.534036Z",
     "start_time": "2023-10-30T10:41:07.959295Z"
    },
    "collapsed": false
   },
   "outputs": [
    {
     "data": {
      "text/plain": [
       "{'train': tensor([     0,      1,      2,  ..., 169145, 169148, 169251]),\n",
       " 'valid': tensor([   349,    357,    366,  ..., 169185, 169261, 169296]),\n",
       " 'test': tensor([   346,    398,    451,  ..., 169340, 169341, 169342])}"
      ]
     },
     "execution_count": 53,
     "metadata": {},
     "output_type": "execute_result"
    }
   ],
   "source": [
    "split_edge"
   ]
  },
  {
   "cell_type": "markdown",
   "id": "bddc26bc",
   "metadata": {},
   "source": [
    "# How pytorch geometry random split works"
   ]
  },
  {
   "cell_type": "code",
   "execution_count": 54,
   "id": "7b3727d0",
   "metadata": {},
   "outputs": [
    {
     "name": "stdout",
     "output_type": "stream",
     "text": [
      "looking for negative edges at /pfs/work7/workspace/scratch/cc7738-prefeature/subgraph-sketching_chen/dataset/Citeseer/negative_samples.pt\n",
      "loading negatives from disk\n"
     ]
    }
   ],
   "source": [
    "num_negs = 1\n",
    "dataset = PygLinkPropPredDataset(name='ogbl-citation2', root=path)\n",
    "data = dataset[0]\n",
    "split_edge = dataset.get_edge_split()\n",
    "splits = get_ogb_data(data, split_edge, dataset_name, num_negs)"
   ]
  },
  {
   "cell_type": "code",
   "execution_count": 55,
   "id": "88bc0341",
   "metadata": {},
   "outputs": [
    {
     "data": {
      "text/plain": [
       "{'train': {'source_node': tensor([ 837791,  837791,  837791,  ...,  928474, 1521923, 1257024]),\n",
       "  'target_node': tensor([    102, 1074631, 1658157,  ...,  250277,  316321,  325910])},\n",
       " 'valid': {'source_node': tensor([2302382, 1112061, 1660093,  ..., 1660079, 2395010,   88681]),\n",
       "  'target_node': tensor([ 245742,  839129,  228003,  ...,  699000, 2485204,  849448]),\n",
       "  'target_node_neg': tensor([[2415348,  412967, 2565382,  ..., 1353044, 1652394, 1627182],\n",
       "          [2417679, 1300333, 1209239,  ...,  895374,  212010,  708688],\n",
       "          [2048101, 2862532, 2290308,  ..., 2514487,   40940, 1026291],\n",
       "          ...,\n",
       "          [ 318135, 2739424, 1532176,  ...,  992389, 2060643,  200797],\n",
       "          [2788476,  478421, 2370700,  ..., 2029628, 1698721, 2022902],\n",
       "          [ 576938, 2577235, 2070601,  ...,  155330, 1643711, 1166252]])},\n",
       " 'test': {'source_node': tensor([2302382, 1112061, 1660093,  ..., 1660079, 2395010,   88681]),\n",
       "  'target_node': tensor([1611317,  963234,  108714,  ..., 2537726,  163858,  112969]),\n",
       "  'target_node_neg': tensor([[ 114076, 2093394, 1308822,  ..., 2321062, 1852878,  936672],\n",
       "          [1721320, 1652516, 1519005,  ...,  341717, 2088606, 2439337],\n",
       "          [2599779,  559531, 2167457,  ..., 1712849, 1557393,  351509],\n",
       "          ...,\n",
       "          [2425394, 2492996, 1292379,  ..., 1869240,  659290, 2717380],\n",
       "          [1209528, 1772707,  494703,  ..., 2750101, 1057759, 1297680],\n",
       "          [2587770, 2587954,   49452,  ..., 1938683, 1319512, 2029363]])}}"
      ]
     },
     "execution_count": 55,
     "metadata": {},
     "output_type": "execute_result"
    }
   ],
   "source": [
    "split_edge"
   ]
  },
  {
   "cell_type": "code",
   "execution_count": 56,
   "id": "3a3ac979",
   "metadata": {},
   "outputs": [
    {
     "data": {
      "text/plain": [
       "{'train': Data(x=[2927963, 128], edge_index=[2, 30387995], edge_label=[60775990], edge_label_index=[2, 60775990]),\n",
       " 'valid': Data(x=[2927963, 128], edge_index=[2, 30387995], edge_label=[86682596], edge_label_index=[2, 86682596]),\n",
       " 'test': Data(x=[2927963, 128], edge_index=[2, 30387995], edge_label=[86682596], edge_label_index=[2, 86682596])}"
      ]
     },
     "execution_count": 56,
     "metadata": {},
     "output_type": "execute_result"
    }
   ],
   "source": [
    "splits"
   ]
  },
  {
   "cell_type": "code",
   "execution_count": 57,
   "id": "f11078c8",
   "metadata": {},
   "outputs": [
    {
     "data": {
      "text/plain": [
       "{'train': {'source_node': tensor([ 837791,  837791,  837791,  ...,  928474, 1521923, 1257024]),\n",
       "  'target_node': tensor([    102, 1074631, 1658157,  ...,  250277,  316321,  325910])},\n",
       " 'valid': {'source_node': tensor([2302382, 1112061, 1660093,  ..., 1660079, 2395010,   88681]),\n",
       "  'target_node': tensor([ 245742,  839129,  228003,  ...,  699000, 2485204,  849448]),\n",
       "  'target_node_neg': tensor([[2415348,  412967, 2565382,  ..., 1353044, 1652394, 1627182],\n",
       "          [2417679, 1300333, 1209239,  ...,  895374,  212010,  708688],\n",
       "          [2048101, 2862532, 2290308,  ..., 2514487,   40940, 1026291],\n",
       "          ...,\n",
       "          [ 318135, 2739424, 1532176,  ...,  992389, 2060643,  200797],\n",
       "          [2788476,  478421, 2370700,  ..., 2029628, 1698721, 2022902],\n",
       "          [ 576938, 2577235, 2070601,  ...,  155330, 1643711, 1166252]])},\n",
       " 'test': {'source_node': tensor([2302382, 1112061, 1660093,  ..., 1660079, 2395010,   88681]),\n",
       "  'target_node': tensor([1611317,  963234,  108714,  ..., 2537726,  163858,  112969]),\n",
       "  'target_node_neg': tensor([[ 114076, 2093394, 1308822,  ..., 2321062, 1852878,  936672],\n",
       "          [1721320, 1652516, 1519005,  ...,  341717, 2088606, 2439337],\n",
       "          [2599779,  559531, 2167457,  ..., 1712849, 1557393,  351509],\n",
       "          ...,\n",
       "          [2425394, 2492996, 1292379,  ..., 1869240,  659290, 2717380],\n",
       "          [1209528, 1772707,  494703,  ..., 2750101, 1057759, 1297680],\n",
       "          [2587770, 2587954,   49452,  ..., 1938683, 1319512, 2029363]])}}"
      ]
     },
     "execution_count": 57,
     "metadata": {},
     "output_type": "execute_result"
    }
   ],
   "source": [
    "split_edge"
   ]
  },
  {
   "cell_type": "code",
   "execution_count": 58,
   "id": "d90e29c5",
   "metadata": {},
   "outputs": [
    {
     "data": {
      "text/plain": [
       "Data(num_nodes=2927963, edge_index=[2, 30387995], x=[2927963, 128], node_year=[2927963, 1])"
      ]
     },
     "execution_count": 58,
     "metadata": {},
     "output_type": "execute_result"
    }
   ],
   "source": [
    "data"
   ]
  },
  {
   "cell_type": "code",
   "execution_count": 59,
   "id": "b5dffdb1",
   "metadata": {},
   "outputs": [
    {
     "name": "stderr",
     "output_type": "stream",
     "text": [
      "/home/kit/aifb/cc7738/anaconda3/envs/ss/lib/python3.9/site-packages/torch_geometric/data/in_memory_dataset.py:157: UserWarning: It is not recommended to directly access the internal storage format `data` of an 'InMemoryDataset'. If you are absolutely certain what you are doing, access the internal storage via `InMemoryDataset._data` instead to suppress this warning. Alternatively, you can access stacked individual attributes of every graph via `dataset.{attr_name}`.\n",
      "  warnings.warn(msg)\n"
     ]
    }
   ],
   "source": [
    "transform = RandomLinkSplit(is_undirected=True, num_val=0.1, num_test=0.2,\n",
    "                            add_negative_train_samples=True)\n",
    "train_data, val_data, test_data = transform(dataset.data)"
   ]
  },
  {
   "cell_type": "code",
   "execution_count": 61,
   "id": "252edd2f",
   "metadata": {},
   "outputs": [
    {
     "data": {
      "text/plain": [
       "Data(num_nodes=2927963, edge_index=[2, 21320072], x=[2927963, 128], node_year=[2927963, 1], edge_label=[3045724], edge_label_index=[2, 3045724])"
      ]
     },
     "execution_count": 61,
     "metadata": {},
     "output_type": "execute_result"
    }
   ],
   "source": [
    "val_data"
   ]
  },
  {
   "cell_type": "markdown",
   "id": "691c374b",
   "metadata": {},
   "source": [
    "train dataset does not have negative link, but valid and test have. "
   ]
  }
 ],
 "metadata": {
  "kernelspec": {
   "display_name": "Python 3",
   "language": "python",
   "name": "python3"
  },
  "language_info": {
   "codemirror_mode": {
    "name": "ipython",
    "version": 3
   },
   "file_extension": ".py",
   "mimetype": "text/x-python",
   "name": "python",
   "nbconvert_exporter": "python",
   "pygments_lexer": "ipython3",
   "version": "3.9.18"
  }
 },
 "nbformat": 4,
 "nbformat_minor": 5
}
