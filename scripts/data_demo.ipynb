{
 "cells": [
  {
   "cell_type": "markdown",
   "id": "1ba59b1dbac89a68",
   "metadata": {
    "collapsed": false
   },
   "source": [
    "# Enviorment Installation \n",
    "In order to load dataset and run the code, you need to install the following packages:\n",
    "Dependencies (with python >= 3.9): Main dependencies are\n",
    "pytorch==1.13\n",
    "torch_geometric==2.2.0\n",
    "torch-scatter==2.1.1+pt113cpu\n",
    "torch-sparse==0.6.17+pt113cpu\n",
    "torch-spline-conv==1.2.2+pt113cpu\n",
    "\n",
    "# Dataset Download \n",
    "There are three available datasets for link prediction: Cora, Pubmed and Arxiv. Please download them from the following link:\n",
    "\n"
   ]
  },
  {
   "cell_type": "code",
   "execution_count": 1,
   "id": "699679a4b0e356e9",
   "metadata": {
    "ExecuteTime": {
     "end_time": "2023-09-25T11:01:16.690421Z",
     "start_time": "2023-09-25T11:01:16.674493Z"
    },
    "collapsed": false
   },
   "outputs": [
    {
     "name": "stderr",
     "output_type": "stream",
     "text": [
      "/home/kit/aifb/cc7738/anaconda3/envs/ss/lib/python3.9/site-packages/tqdm/auto.py:21: TqdmWarning: IProgress not found. Please update jupyter and ipywidgets. See https://ipywidgets.readthedocs.io/en/stable/user_install.html\n",
      "  from .autonotebook import tqdm as notebook_tqdm\n"
     ]
    }
   ],
   "source": [
    "from yacs.config import CfgNode as CN\n",
    "import numpy as np\n",
    "import torch\n",
    "import random\n",
    "import os, sys \n",
    "import pandas as pd \n",
    "from torch_geometric.datasets import Planetoid\n",
    "import torch_geometric.transforms as T\n",
    "\n",
    "cfg = CN()\n",
    "\n",
    "cfg.dataset = CN()\n",
    "cfg.dataset.cora = CN()\n",
    "cfg.dataset.cora.root = '/pfs/work7/workspace/scratch/cc7738-prefeature/TAPE' #'PATH_TO_DATASET' \n",
    "cfg.dataset.cora.original = cfg.dataset.cora.root + '/dataset/cora_orig/cora'\n",
    "cfg.dataset.cora.papers =  cfg.dataset.cora.root + '/dataset/cora_orig/mccallum/cora/papers'\n",
    "cfg.dataset.cora.extractions =  cfg.dataset.cora.root + '/dataset/cora_andrew_mccallum/extractions/'\n",
    "cfg.dataset.cora.lm_model_name = 'microsoft/deberta-base'\n",
    "# ------------------------------------------------------------------------ #\n",
    "cfg.dataset.pubmed = CN()\n",
    "cfg.dataset.pubmed.root = '/pfs/work7/workspace/scratch/cc7738-prefeature/TAPE' #'PATH_TO_DATASET' \n",
    "cfg.dataset.pubmed.original = cfg.dataset.pubmed.root  + '/dataset/PubMed_orig/data/'\n",
    "cfg.dataset.pubmed.abs_ti = cfg.dataset.pubmed.root  + '/dataset/PubMed_orig/pubmed.json' \n",
    "\n",
    "cfg.dataset.arxiv = CN()\n",
    "cfg.dataset.arxiv.root = '/pfs/work7/workspace/scratch/cc7738-prefeature/TAPE' #'PATH_TO_DATASET' \n",
    "cfg.dataset.arxiv.abs_ti = cfg.dataset.arxiv.root + '/dataset/ogbn_arxiv_orig/titleabs.tsv'"
   ]
  },
  {
   "cell_type": "code",
   "execution_count": 2,
   "id": "b3eec148f590c63d",
   "metadata": {
    "ExecuteTime": {
     "end_time": "2023-09-25T09:02:53.852292Z",
     "start_time": "2023-09-25T09:02:53.826469Z"
    },
    "collapsed": false
   },
   "outputs": [
    {
     "data": {
      "text/plain": [
       "CfgNode({'dataset': CfgNode({'cora': CfgNode({'root': '/pfs/work7/workspace/scratch/cc7738-prefeature/TAPE', 'original': '/pfs/work7/workspace/scratch/cc7738-prefeature/TAPE/dataset/cora_orig/cora', 'papers': '/pfs/work7/workspace/scratch/cc7738-prefeature/TAPE/dataset/cora_orig/mccallum/cora/papers', 'extractions': '/pfs/work7/workspace/scratch/cc7738-prefeature/TAPE/dataset/cora_andrew_mccallum/extractions/', 'lm_model_name': 'microsoft/deberta-base'}), 'pubmed': CfgNode({'root': '/pfs/work7/workspace/scratch/cc7738-prefeature/TAPE', 'original': '/pfs/work7/workspace/scratch/cc7738-prefeature/TAPE/dataset/PubMed_orig/data/', 'abs_ti': '/pfs/work7/workspace/scratch/cc7738-prefeature/TAPE/dataset/PubMed_orig/pubmed.json'}), 'arxiv': CfgNode({'root': '/pfs/work7/workspace/scratch/cc7738-prefeature/TAPE', 'abs_ti': '/pfs/work7/workspace/scratch/cc7738-prefeature/TAPE/dataset/ogbn_arxiv_orig/titleabs.tsv'})})})"
      ]
     },
     "execution_count": 2,
     "metadata": {},
     "output_type": "execute_result"
    }
   ],
   "source": [
    "cfg"
   ]
  },
  {
   "cell_type": "code",
   "execution_count": 3,
   "id": "159de8ae31274dd3",
   "metadata": {
    "collapsed": false
   },
   "outputs": [],
   "source": [
    "def seed_everything(SEED=0):\n",
    "    torch.manual_seed(SEED)\n",
    "    if torch.cuda.is_available():\n",
    "        torch.cuda.manual_seed(SEED)\n",
    "    np.random.seed(SEED)  # Numpy module.\n",
    "    random.seed(SEED)  # Python random module."
   ]
  },
  {
   "cell_type": "code",
   "execution_count": 4,
   "id": "20ec6a5fb2c36d25",
   "metadata": {
    "collapsed": false
   },
   "outputs": [],
   "source": [
    "def load_ab_ti(path, fn):\n",
    "    ti, ab = '', ''\n",
    "    with open(path + fn) as f:\n",
    "        lines = f.read().splitlines()\n",
    "    for line in lines:\n",
    "        if line.split(':')[0] == 'Title':\n",
    "            ti = line\n",
    "        elif line.split(':')[0] == 'Abstract':\n",
    "            ab = line\n",
    "    return ti, ab"
   ]
  },
  {
   "cell_type": "code",
   "execution_count": 5,
   "id": "df6f1d693f2cba8",
   "metadata": {
    "ExecuteTime": {
     "end_time": "2023-09-25T09:02:54.495451Z",
     "start_time": "2023-09-25T09:02:54.287303Z"
    },
    "collapsed": false
   },
   "outputs": [],
   "source": [
    "def get_raw_text_cora(cfg, use_text=False, seed=0):\n",
    "    # load data \n",
    "    path_papers = cfg.dataset.cora.papers\n",
    "    andrew_maccallum_path = cfg.dataset.cora.extractions \n",
    "    dataset = Planetoid('dataset', 'cora',\n",
    "                        transform=T.NormalizeFeatures())\n",
    "    data = dataset[0]\n",
    "    print(data)\n",
    "    \n",
    "    # load data_citeid \n",
    "    path = cfg.dataset.cora.original\n",
    "    idx_features_labels = np.genfromtxt(\n",
    "        \"{}.content\".format(path), dtype=np.dtype(str))\n",
    "    data_X = idx_features_labels[:, 1:-1].astype(np.float32)\n",
    "    labels = idx_features_labels[:, -1]\n",
    "    data_citeid = idx_features_labels[:, 0]\n",
    "    \n",
    "    if not use_text:\n",
    "        return data, None\n",
    "\n",
    "    with open(path_papers) as f:\n",
    "        lines = f.readlines()\n",
    "    pid_filename = {}\n",
    "    for line in lines:\n",
    "        pid = line.split('\\t')[0]\n",
    "        fn = line.split('\\t')[1]\n",
    "        pid_filename[pid] = fn\n",
    "\n",
    "    text = []\n",
    "    whole, founded = len(data_citeid), 0\n",
    "    no_ab_or_ti = 0\n",
    "    for pid in data_citeid:\n",
    "        fn = pid_filename[pid]\n",
    "        ti, ab = load_ab_ti(andrew_maccallum_path, fn)\n",
    "        founded += 1\n",
    "        text.append(ti + '\\n' + ab)\n",
    "\n",
    "        if ti == '' or ab == '':\n",
    "            # print(f\"no title {ti}, no abstract {ab}\")\n",
    "            no_ab_or_ti += 1\n",
    "    print(f\"found {founded}/{whole} papers, {no_ab_or_ti} no ab or ti.\")\n",
    "    return data, text\n"
   ]
  },
  {
   "cell_type": "code",
   "execution_count": null,
   "id": "683453caa9c292cf",
   "metadata": {
    "collapsed": false
   },
   "outputs": [],
   "source": []
  }
 ],
 "metadata": {
  "kernelspec": {
   "display_name": "Python 3",
   "language": "python",
   "name": "python3"
  },
  "language_info": {
   "codemirror_mode": {
    "name": "ipython",
    "version": 3
   },
   "file_extension": ".py",
   "mimetype": "text/x-python",
   "name": "python",
   "nbconvert_exporter": "python",
   "pygments_lexer": "ipython3",
   "version": "3.9.18"
  }
 },
 "nbformat": 4,
 "nbformat_minor": 5
}
